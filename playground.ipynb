{
 "cells": [
  {
   "cell_type": "markdown",
   "metadata": {},
   "source": [
    "# Aggregate final results"
   ]
  },
  {
   "cell_type": "code",
   "execution_count": 2,
   "metadata": {},
   "outputs": [],
   "source": [
    "import glob\n",
    "import pandas as pd\n",
    "\n",
    "\n",
    "modality_results = {\n",
    "    modality : pd.concat(map(pd.read_csv, glob.glob(f\"csv/{modality}/*multi_*.csv\")))\n",
    "    for modality in [\"v\", \"a\", \"av\"]\n",
    "}"
   ]
  },
  {
   "cell_type": "code",
   "execution_count": 8,
   "metadata": {},
   "outputs": [
    {
     "data": {
      "text/html": [
       "<div>\n",
       "<style scoped>\n",
       "    .dataframe tbody tr th:only-of-type {\n",
       "        vertical-align: middle;\n",
       "    }\n",
       "\n",
       "    .dataframe tbody tr th {\n",
       "        vertical-align: top;\n",
       "    }\n",
       "\n",
       "    .dataframe thead th {\n",
       "        text-align: right;\n",
       "    }\n",
       "</style>\n",
       "<table border=\"1\" class=\"dataframe\">\n",
       "  <thead>\n",
       "    <tr style=\"text-align: right;\">\n",
       "      <th></th>\n",
       "      <th>video_id</th>\n",
       "      <th>suggestions</th>\n",
       "      <th>response</th>\n",
       "    </tr>\n",
       "  </thead>\n",
       "  <tbody>\n",
       "    <tr>\n",
       "      <th>0</th>\n",
       "      <td>E0pr-jw5Nrg_000129.mp4</td>\n",
       "      <td>[]</td>\n",
       "      <td>ambulance siren: No, there is no ambulance sir...</td>\n",
       "    </tr>\n",
       "    <tr>\n",
       "      <th>1</th>\n",
       "      <td>DLncH1MUazE_000005.mp4</td>\n",
       "      <td>[]</td>\n",
       "      <td>ambulance siren: No, there is no ambulance sir...</td>\n",
       "    </tr>\n",
       "    <tr>\n",
       "      <th>2</th>\n",
       "      <td>K0Y8oGYR7lw_000010.mp4</td>\n",
       "      <td>[]</td>\n",
       "      <td>ambulance siren: No, there is no ambulance sir...</td>\n",
       "    </tr>\n",
       "    <tr>\n",
       "      <th>3</th>\n",
       "      <td>eozwlCm0QIo_000030.mp4</td>\n",
       "      <td>[]</td>\n",
       "      <td>ambulance siren: No, there is no ambulance sir...</td>\n",
       "    </tr>\n",
       "    <tr>\n",
       "      <th>4</th>\n",
       "      <td>dG7RFy7mAyY_000030.mp4</td>\n",
       "      <td>[]</td>\n",
       "      <td>ambulance siren: No, there is no ambulance sir...</td>\n",
       "    </tr>\n",
       "  </tbody>\n",
       "</table>\n",
       "</div>"
      ],
      "text/plain": [
       "                 video_id suggestions  \\\n",
       "0  E0pr-jw5Nrg_000129.mp4          []   \n",
       "1  DLncH1MUazE_000005.mp4          []   \n",
       "2  K0Y8oGYR7lw_000010.mp4          []   \n",
       "3  eozwlCm0QIo_000030.mp4          []   \n",
       "4  dG7RFy7mAyY_000030.mp4          []   \n",
       "\n",
       "                                            response  \n",
       "0  ambulance siren: No, there is no ambulance sir...  \n",
       "1  ambulance siren: No, there is no ambulance sir...  \n",
       "2  ambulance siren: No, there is no ambulance sir...  \n",
       "3  ambulance siren: No, there is no ambulance sir...  \n",
       "4  ambulance siren: No, there is no ambulance sir...  "
      ]
     },
     "execution_count": 8,
     "metadata": {},
     "output_type": "execute_result"
    }
   ],
   "source": [
    "modality_results[\"v\"].head()"
   ]
  },
  {
   "cell_type": "code",
   "execution_count": 20,
   "metadata": {},
   "outputs": [
    {
     "name": "stderr",
     "output_type": "stream",
     "text": [
      "  0%|          | 0/15446 [00:00<?, ?it/s]"
     ]
    },
    {
     "name": "stderr",
     "output_type": "stream",
     "text": [
      "100%|██████████| 15446/15446 [00:25<00:00, 603.70it/s]\n"
     ]
    }
   ],
   "source": [
    "import ast \n",
    "from collections import defaultdict\n",
    "from tqdm.auto import tqdm\n",
    "\n",
    "test_df = pd.read_csv(\"../../data/test.csv\", names=[\"video_id\", \"label\"])\n",
    "modality_data = defaultdict(list)\n",
    "\n",
    "for _, row in tqdm(test_df.iterrows(), total=len(test_df)):\n",
    "    video_id = row['video_id']\n",
    "    labels = row['label']\n",
    "    \n",
    "    if (\n",
    "        (\"av\" not in modality_results or video_id not in modality_results[\"av\"][\"video_id\"].values)\n",
    "        and (\"v\" not in modality_results or video_id not in modality_results[\"v\"][\"video_id\"].values)\n",
    "        and (\"a\" not in modality_results or video_id not in modality_results[\"a\"][\"video_id\"].values)\n",
    "    ):\n",
    "        continue\n",
    "    \n",
    "    for modality in [\"av\", \"a\", \"v\"]:\n",
    "        \n",
    "        \n",
    "        if modality not in modality_results:\n",
    "            for i in range(1, 11):\n",
    "                modality_data[f\"{modality}_top_{i}\"].append(\"\")\n",
    "                \n",
    "            continue\n",
    "        \n",
    "        modality_df = modality_results[modality]\n",
    "        modality_prediction = modality_df[modality_df['video_id'] == video_id][\"suggestions\"]\n",
    "        if modality_prediction.empty:\n",
    "            modality_prediction = []\n",
    "        else:\n",
    "            modality_prediction = ast.literal_eval(modality_prediction.tolist()[0])\n",
    "        \n",
    "        for i in range(1, 11):\n",
    "            modality_data[f\"{modality}_top_{i}\"].append(modality_prediction[i] if i < len(modality_prediction) else \"\")\n",
    "    \n",
    "    modality_data[\"label\"].append(labels)\n",
    "    modality_data[\"video_id\"].append(video_id.split(\".\")[0])"
   ]
  },
  {
   "cell_type": "code",
   "execution_count": 21,
   "metadata": {},
   "outputs": [],
   "source": [
    "pandagpt_resutls = pd.DataFrame(modality_data)\n",
    "pandagpt_resutls.to_csv(\"../../data/model-predictions/pandagpt/test_predictions.csv\", index=False)"
   ]
  }
 ],
 "metadata": {
  "kernelspec": {
   "display_name": "cav-mae",
   "language": "python",
   "name": "python3"
  },
  "language_info": {
   "codemirror_mode": {
    "name": "ipython",
    "version": 3
   },
   "file_extension": ".py",
   "mimetype": "text/x-python",
   "name": "python",
   "nbconvert_exporter": "python",
   "pygments_lexer": "ipython3",
   "version": "3.10.15"
  }
 },
 "nbformat": 4,
 "nbformat_minor": 2
}
